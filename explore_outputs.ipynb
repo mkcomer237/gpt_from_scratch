{
 "cells": [
  {
   "cell_type": "code",
   "execution_count": 23,
   "metadata": {},
   "outputs": [],
   "source": [
    "import torch  \n",
    "import torch.optim as optim\n",
    "import time\n",
    "from tqdm import tqdm\n",
    "import json\n",
    "\n",
    "from Transformer import (\n",
    "    TransformerLanguageModel,\n",
    "    encode,\n",
    "    decode,\n",
    "    tokenize_data,\n",
    ")\n",
    "\n",
    "from torch.nn import functional as F\n",
    "\n",
    "from video_code import (\n",
    "    GPTLanguageModel\n",
    ")\n"
   ]
  },
  {
   "cell_type": "code",
   "execution_count": 4,
   "metadata": {},
   "outputs": [],
   "source": [
    "def set_parameters():\n",
    "\n",
    "    # Load the config file json\n",
    "    f = open(\"training_config.json\")\n",
    "    config = json.load(f)\n",
    "    torch.manual_seed(1337)\n",
    "\n",
    "    train_num_batches = config[\"train_num_steps\"] // config[\"batch_size\"]\n",
    "    val_num_batches = config[\"val_num_steps\"] // config[\"batch_size\"]\n",
    "\n",
    "    # Hardcode device for testing\n",
    "    device = \"cpu\"\n",
    "\n",
    "    return config, device, train_num_batches, val_num_batches\n"
   ]
  },
  {
   "cell_type": "code",
   "execution_count": 6,
   "metadata": {},
   "outputs": [
    {
     "name": "stdout",
     "output_type": "stream",
     "text": [
      "tensor([18, 47, 56, 57, 58,  1, 15, 47, 58, 47, 64, 43, 52, 10,  0, 14, 43, 44,\n",
      "        53, 56, 43,  1, 61, 43,  1, 54, 56, 53, 41, 43, 43, 42,  1, 39, 52, 63,\n",
      "         1, 44, 59, 56, 58, 46, 43, 56,  6,  1, 46, 43, 39, 56,  1, 51, 43,  1,\n",
      "        57, 54, 43, 39, 49,  8,  0,  0, 13, 50, 50, 10,  0, 31, 54, 43, 39, 49,\n",
      "         6,  1, 57, 54, 43, 39, 49,  8,  0,  0, 18, 47, 56, 57, 58,  1, 15, 47,\n",
      "        58, 47, 64, 43, 52, 10,  0, 37, 53, 59])\n"
     ]
    }
   ],
   "source": [
    "data, vocab_size, stoi, itos = tokenize_data(\"input.txt\")\n",
    "print(data[:100])"
   ]
  },
  {
   "cell_type": "code",
   "execution_count": 7,
   "metadata": {},
   "outputs": [],
   "source": [
    "# Load the full model from the file, and perform inference on a sample to look at the output format\n",
    "config, device, train_num_batches, val_num_batches = set_parameters()\n",
    "model = TransformerLanguageModel(vocab_size, config, \"cpu\")"
   ]
  },
  {
   "cell_type": "code",
   "execution_count": 13,
   "metadata": {},
   "outputs": [
    {
     "name": "stdout",
     "output_type": "stream",
     "text": [
      "tensor([[63,  1, 46, 43, 39, 56],\n",
      "        [39, 52, 42,  1, 39,  1],\n",
      "        [46, 53, 50, 43,  1, 41]])\n"
     ]
    }
   ],
   "source": [
    "# Create batches\n",
    "\n",
    "def get_batch(split, train_data, val_data, config): # train or validation split\n",
    "    \"\"\"Generate a small batch of data from inputs x and targets y.\"\"\"\n",
    "    if split == \"train\":\n",
    "        data = train_data\n",
    "    elif split == \"val\":\n",
    "        data = val_data\n",
    "    else:\n",
    "        raise ValueError(\"split must be train or val\")\n",
    "    ix = torch.randint(len(data) - config[\"block_size\"], (config[\"batch_size\"],)) # batch_size random sequence starting points\n",
    "    # print(\"Random starting points for each block: \", ix)\n",
    "    x = torch.stack([data[i:i+config[\"block_size\"]] for i in ix])\n",
    "    y = torch.stack([data[i+1:i+1+config[\"block_size\"]] for i in ix])\n",
    "    return x, y\n",
    "\n",
    "config[\"batch_size\"] = 3\n",
    "config[\"block_size\"] = 6\n",
    "xb, yb = get_batch(\"train\", data, data, config)\n",
    "print(xb)"
   ]
  },
  {
   "cell_type": "code",
   "execution_count": 20,
   "metadata": {},
   "outputs": [
    {
     "name": "stdout",
     "output_type": "stream",
     "text": [
      "<class 'torch.Tensor'>\n",
      "3\n",
      "torch.Size([3, 6, 65])\n"
     ]
    }
   ],
   "source": [
    "logits = model(xb)[0]\n",
    "print(type(logits))\n",
    "print(len(logits))\n",
    "print(logits.shape)\n",
    "# Shape is the batch size, sequence length, and vocab size\n",
    "# Vocab size represents the softmax output for each token.  \n"
   ]
  },
  {
   "cell_type": "code",
   "execution_count": 22,
   "metadata": {},
   "outputs": [
    {
     "name": "stdout",
     "output_type": "stream",
     "text": [
      "torch.Size([3, 6])\n",
      "tensor([[ 1, 46, 43, 39, 56, 58],\n",
      "        [52, 42,  1, 39,  1, 40],\n",
      "        [53, 50, 43,  1, 41, 47]])\n"
     ]
    }
   ],
   "source": [
    "print(yb.shape)\n",
    "print(yb)"
   ]
  },
  {
   "cell_type": "code",
   "execution_count": 24,
   "metadata": {},
   "outputs": [
    {
     "data": {
      "text/plain": [
       "tensor(4.1826, grad_fn=<NllLossBackward0>)"
      ]
     },
     "execution_count": 24,
     "metadata": {},
     "output_type": "execute_result"
    }
   ],
   "source": [
    "F.cross_entropy(logits.view(-1, logits.size(-1)), yb.view(-1))"
   ]
  },
  {
   "cell_type": "code",
   "execution_count": 25,
   "metadata": {},
   "outputs": [
    {
     "name": "stdout",
     "output_type": "stream",
     "text": [
      "tensor(4.1826, grad_fn=<NllLossBackward0>)\n",
      "tensor([ 1, 46, 43, 39, 56, 58, 52, 42,  1, 39,  1, 40, 53, 50, 43,  1, 41, 47])\n"
     ]
    }
   ],
   "source": [
    "B, T, V = logits.shape\n",
    "logits = logits.view(B * T, V)  # Stack the time pieces for each batch on top of each other batch\n",
    "targets = yb.view(B * T)\n",
    "loss = F.cross_entropy(logits, targets)\n",
    "print(loss)\n",
    "print(targets)"
   ]
  },
  {
   "cell_type": "code",
   "execution_count": null,
   "metadata": {},
   "outputs": [],
   "source": []
  }
 ],
 "metadata": {
  "kernelspec": {
   "display_name": "Python 3 (ipykernel)",
   "language": "python",
   "name": "python3"
  },
  "language_info": {
   "codemirror_mode": {
    "name": "ipython",
    "version": 3
   },
   "file_extension": ".py",
   "mimetype": "text/x-python",
   "name": "python",
   "nbconvert_exporter": "python",
   "pygments_lexer": "ipython3",
   "version": "3.8.10"
  }
 },
 "nbformat": 4,
 "nbformat_minor": 2
}
